{
 "cells": [
  {
   "cell_type": "code",
   "execution_count": 1,
   "metadata": {},
   "outputs": [
    {
     "name": "stdout",
     "output_type": "stream",
     "text": [
      "E:\\NLP\\QA\n"
     ]
    }
   ],
   "source": [
    "import numpy as np\n",
    "import tensorflow as tf\n",
    "import json\n",
    "import os\n",
    "import warnings\n",
    "import random\n",
    "import pickle\n",
    "import math\n",
    "warnings.simplefilter(action='ignore', category=FutureWarning)\n",
    "from nltk.corpus import stopwords\n",
    "from nltk.tokenize import word_tokenize\n",
    "from sklearn.feature_extraction.text import TfidfVectorizer\n",
    "from tqdm import tqdm\n",
    "\n",
    "%cd \"E:\\NLP\\QA\""
   ]
  },
  {
   "cell_type": "code",
   "execution_count": 2,
   "metadata": {
    "collapsed": true
   },
   "outputs": [],
   "source": [
    "embedding = np.load(\"embedding2.npy\").astype(\"float32\")\n",
    "with open(\"documents.json\") as f:\n",
    "    doc = json.load(f)\n",
    "with open(\"training.json\") as f:\n",
    "    train = json.load(f)\n",
    "with open(\"devel.json\") as f:\n",
    "    dev = json.load(f)\n",
    "with open(\"word_dict2.json\",\"r\") as f:\n",
    "    word_dict = json.load(f)\n",
    "with open(\"char_dict2.json\",\"r\") as f:\n",
    "    char_dict = json.load(f)"
   ]
  },
  {
   "cell_type": "code",
   "execution_count": 3,
   "metadata": {},
   "outputs": [
    {
     "name": "stdout",
     "output_type": "stream",
     "text": [
      "(72497, 300)\n",
      "72499\n",
      "210\n",
      "72498\n",
      "209\n"
     ]
    }
   ],
   "source": [
    "print(embedding.shape)\n",
    "print(len(word_dict))\n",
    "print(len(char_dict))\n",
    "print(word_dict[\"<PAD>\"])\n",
    "print(char_dict[\"<pad>\"])"
   ]
  },
  {
   "cell_type": "code",
   "execution_count": 4,
   "metadata": {
    "collapsed": true
   },
   "outputs": [],
   "source": [
    "topk = 2\n",
    "\n",
    "stopword = set(stopwords.words('english'))\n",
    "punc = set(['\"','\\'',\"?\",\".\",\",\",\"/\",\"<\",\">\",\":\",\";\"])"
   ]
  },
  {
   "cell_type": "code",
   "execution_count": 5,
   "metadata": {
    "collapsed": true
   },
   "outputs": [],
   "source": [
    "def unknown_detection(token_list):\n",
    "    new_list = []\n",
    "    for token in token_list:\n",
    "        if token in word_dict:\n",
    "            new_list.append(token)\n",
    "        else:\n",
    "            new_list.append(\"<UNK>\")\n",
    "    return new_list\n",
    "\n",
    "def generate_char(token_list):\n",
    "    new_list = []\n",
    "    for token in token_list:\n",
    "        if token == \"<PAD>\":\n",
    "            char_list = [\"<pad>\"]*16\n",
    "        else:\n",
    "            char_list = [c for c in token[:16]]\n",
    "        while len(char_list) < 16:\n",
    "            char_list.append(\"<pad>\")\n",
    "        for char in char_list:\n",
    "            if char in char_dict:\n",
    "                new_list.append(char)\n",
    "            else:\n",
    "                new_list.append(\"<unk>\")\n",
    "    assert len(new_list) == len(token_list) * 16\n",
    "    return new_list\n",
    "\n",
    "if os.path.exists(\"tfidfs.pickle\"):\n",
    "    with open(\"tfidfs.pickle\",\"rb\") as f:\n",
    "        tfidfs = pickle.load(f)\n",
    "else:\n",
    "    tfidfs = dict()\n",
    "    for d in doc:\n",
    "        tfidf = TfidfVectorizer(tokenizer=word_tokenize,\n",
    "                                stop_words='english',\n",
    "                                max_df=0.5,\n",
    "                                smooth_idf=False,\n",
    "                                sublinear_tf=True)\n",
    "        paragraphs = [p.lower() for p in d[\"text\"]]\n",
    "        res = tfidf.fit_transform(paragraphs).toarray()\n",
    "        mapping = tfidf.vocabulary_\n",
    "        tfidfs[d[\"docid\"]] = [res, mapping]\n",
    "    with open(\"tfidfs.pickle\",\"wb\") as f:\n",
    "        pickle.dump(tfidfs, f)"
   ]
  },
  {
   "cell_type": "code",
   "execution_count": 7,
   "metadata": {},
   "outputs": [
    {
     "name": "stderr",
     "output_type": "stream",
     "text": [
      "100%|███████████████████████████████████████████████████████████████████████████| 43379/43379 [02:34<00:00, 280.12it/s]\n"
     ]
    }
   ],
   "source": [
    "padded_train = []\n",
    "for sample in tqdm(train):\n",
    "    new_sample = dict()\n",
    "    docid = sample[\"docid\"]\n",
    "\n",
    "    question = word_tokenize(sample[\"question\"].lower())\n",
    "\n",
    "    answer = word_tokenize(sample[\"text\"].lower())[:7]\n",
    "    answer_para = sample[\"answer_paragraph\"]\n",
    "    para = word_tokenize(doc[docid][\"text\"][answer_para].lower())[:240]\n",
    "    \n",
    "    padded_question = question[:30]\n",
    "    while len(padded_question) < 30:\n",
    "        padded_question.append(\"<PAD>\")\n",
    "    question_char = generate_char(padded_question)\n",
    "    padded_question = unknown_detection(padded_question)\n",
    "    \n",
    "    # select topk noisy sample by tfidf\n",
    "    rmed = []\n",
    "    for token in question:\n",
    "        if token not in stopword and token not in punc:\n",
    "            rmed.append(token)\n",
    "    \n",
    "    res, mapping = tfidfs[docid]\n",
    "    # set accumulator for each paragraph\n",
    "    a_d = [0 for _ in range(res.shape[0])]\n",
    "    for token in rmed:\n",
    "        for i in range(len(a_d)):\n",
    "            if token in mapping:\n",
    "                a_d[i] += res[i, mapping[token]]\n",
    "            else:\n",
    "                pass\n",
    "    k = topk if res.shape[0] > topk else res.shape[0]\n",
    "    pred = np.argpartition(a_d, -k)[-k:]\n",
    "    pred = set(pred)\n",
    "    # give 3 noisy samples excluding the correct one\n",
    "    if answer_para in pred:\n",
    "        pred.remove(answer_para)\n",
    "    else:\n",
    "        pred.pop()\n",
    "    pred = list(pred)\n",
    "    \n",
    "    new_sample[\"question\"] = padded_question\n",
    "    new_sample[\"q_char\"] = question_char\n",
    "    \n",
    "    assert len(padded_question) == 30\n",
    "    assert len(question_char) == 480\n",
    "    \n",
    "    for idx in pred:\n",
    "        if idx == answer_para:\n",
    "            para = word_tokenize(doc[docid][\"text\"][answer_para].lower())[:240]\n",
    "            content_char = generate_char(para)\n",
    "            content = unknown_detection(para)\n",
    "            new_sample[\"content\"] = content\n",
    "            new_sample[\"c_char\"] = content_char\n",
    "            new_sample[\"label\"] = 1\n",
    "            padded_train.append(new_sample)\n",
    "            padded_train.append(new_sample)\n",
    "            padded_train.append(new_sample)\n",
    "        else:\n",
    "            para = word_tokenize(doc[docid][\"text\"][idx].lower())[:240]\n",
    "            content_char = generate_char(para)\n",
    "            content = unknown_detection(para)\n",
    "            new_sample[\"content\"] = content\n",
    "            new_sample[\"c_char\"] = content_char\n",
    "            new_sample[\"label\"] = 0\n",
    "            padded_train.append(new_sample)\n",
    "        assert len(content) <= 240\n",
    "        assert len(content_char) <= 3840\n",
    "        assert len(content_char) == len(content) * 16"
   ]
  },
  {
   "cell_type": "code",
   "execution_count": 8,
   "metadata": {
    "collapsed": true
   },
   "outputs": [],
   "source": [
    "def generate_training_data(padded):\n",
    "\n",
    "    c, c_chars, q, q_chars, labels = [], [], [], [], []\n",
    "    \n",
    "    cnt = 0\n",
    "    for i in tqdm(range(len(padded))):\n",
    "        cnt += 1\n",
    "        sample = padded[i]\n",
    "        question = sample[\"question\"]\n",
    "        content = sample[\"content\"]\n",
    "        q_char = sample[\"q_char\"]\n",
    "        c_char = sample[\"c_char\"]\n",
    "        label = sample[\"label\"]\n",
    "        \n",
    "        \"\"\"\n",
    "        # ignore answer only contains <UNK>\n",
    "        idx = answer.index(\"<PAD>\") if \"<PAD>\" in answer else 7\n",
    "        if all(t == \"<UNK>\" for t in answer[:idx]):\n",
    "            continue\n",
    "        \"\"\"\n",
    "        \n",
    "        q_mapped = [word_dict[t] for t in question]\n",
    "        c_mapped = [word_dict[t] for t in content]\n",
    "        q_char_mapped = [char_dict[ch] for ch in q_char]\n",
    "        c_char_mapped = [char_dict[ch] for ch in c_char]\n",
    "        \n",
    "        c_mapped = tf.keras.preprocessing.sequence.pad_sequences([c_mapped], maxlen=240, padding=\"post\",value=word_dict[\"<PAD>\"])[0]\n",
    "        c_char_mapped = tf.keras.preprocessing.sequence.pad_sequences([c_char_mapped], maxlen=3840, padding=\"post\",value=char_dict[\"<pad>\"])[0]\n",
    "        \n",
    "        c.append(c_mapped)\n",
    "        q.append(q_mapped)\n",
    "        c_chars.append(c_char_mapped)\n",
    "        q_chars.append(q_char_mapped)\n",
    "        labels.append(label)\n",
    "        \n",
    "    return np.array(c), np.array(c_chars), np.array(q), np.array(q_chars), np.array(labels)"
   ]
  },
  {
   "cell_type": "code",
   "execution_count": 9,
   "metadata": {},
   "outputs": [
    {
     "name": "stderr",
     "output_type": "stream",
     "text": [
      "100%|██████████████████████████████████████████████████████████████████████████| 43379/43379 [00:23<00:00, 1818.75it/s]\n"
     ]
    }
   ],
   "source": [
    "c, c_char, q, q_char, label = generate_training_data(padded_train)"
   ]
  },
  {
   "cell_type": "code",
   "execution_count": 10,
   "metadata": {
    "collapsed": true
   },
   "outputs": [],
   "source": [
    "def _int64_feature(value):\n",
    "    return tf.train.Feature(int64_list=tf.train.Int64List(value=value))\n",
    "\n",
    "def _int64_feature2(value):\n",
    "    return tf.train.Feature(int64_list=tf.train.Int64List(value=[value]))\n",
    "\n",
    "filename = \"train.tfrecords\"\n",
    "with tf.python_io.TFRecordWriter(filename) as writer:\n",
    "    for i in range(len(c)):\n",
    "        example = tf.train.Example(\n",
    "              features=tf.train.Features(\n",
    "                  feature={\n",
    "                      'c': _int64_feature(c[i]),\n",
    "                      'c_char': _int64_feature(c_char[i]),\n",
    "                      'q': _int64_feature(q[i]),\n",
    "                      'q_char': _int64_feature(q_char[i]),\n",
    "                      'label': _int64_feature2(label[i])\n",
    "                  }))\n",
    "        writer.write(example.SerializeToString())"
   ]
  },
  {
   "cell_type": "code",
   "execution_count": 5,
   "metadata": {
    "collapsed": true
   },
   "outputs": [],
   "source": [
    "train_indices = np.arange(len(c))\n",
    "def dev_batch(batch=16):\n",
    "    while True:\n",
    "        np.random.shuffle(train_indices)\n",
    "        for i in range(int(math.ceil(len(c)/batch))):\n",
    "            start_index = (i*batch)%len(c)\n",
    "            idx = train_indices[start_index:start_index+batch]\n",
    "            c_b = c[idx]\n",
    "            c_char_b = c_char[idx]\n",
    "            q_b = q[idx]\n",
    "            q_char_b = q_char[idx]\n",
    "            a_b = []\n",
    "            for j in idx:\n",
    "                a_b.append(answer[j])\n",
    "            yield c_b, c_char_b, q_b, q_char_b, a_b"
   ]
  },
  {
   "cell_type": "code",
   "execution_count": 6,
   "metadata": {
    "collapsed": true
   },
   "outputs": [],
   "source": [
    "def f_train(pred_s, pred_e, true_s, true_e, context):\n",
    "    # computes average f_measure for a batch\n",
    "    f_sum = 0\n",
    "    l = len(pred_s)\n",
    "    for i in range(l):\n",
    "        s_i = np.argmax(pred_s[i])\n",
    "        e_i = np.argmax(pred_e[i])\n",
    "        if e_i < s_i:\n",
    "            continue\n",
    "        TP, FN, FP = 0, 0, 0\n",
    "        guess = context[i][s_i:e_i+1]\n",
    "        true = context[i][true_s[i]:true_e[i]+1]\n",
    "        for token in guess:\n",
    "            if token in true:\n",
    "                TP += 1\n",
    "            else:\n",
    "                FP += 1\n",
    "        for token in true:\n",
    "            if token not in guess:\n",
    "                FN += 1\n",
    "        precision = TP/(TP+FP)\n",
    "        recall = TP/(TP+FN)\n",
    "        f = 2*precision*recall/(precision+recall+1e-8)\n",
    "        f_sum += f\n",
    "    return f_sum/l\n",
    "\n",
    "def f_dev(pred_s, pred_e, a, context):\n",
    "    # computes average f_measure for a batch\n",
    "    f_sum = 0\n",
    "    l = len(pred_s)\n",
    "    for i in range(l):\n",
    "        s_i = np.argmax(pred_s[i])\n",
    "        e_i = np.argmax(pred_e[i])\n",
    "        if e_i < s_i:\n",
    "            continue\n",
    "        TP, FN, FP = 0, 0, 0\n",
    "        guess = context[i][s_i:e_i+1]\n",
    "        true = [word_dict[t] for t in unknown_detection(a[i])]\n",
    "        for token in guess:\n",
    "            if token in true:\n",
    "                TP += 1\n",
    "            else:\n",
    "                FP += 1\n",
    "        for token in true:\n",
    "            if token not in guess:\n",
    "                FN += 1\n",
    "        precision = TP/(TP+FP)\n",
    "        recall = TP/(TP+FN)\n",
    "        f = 2*precision*recall/(precision+recall+1e-8)\n",
    "        f_sum += f\n",
    "    return f_sum/l"
   ]
  },
  {
   "cell_type": "code",
   "execution_count": null,
   "metadata": {
    "collapsed": true
   },
   "outputs": [],
   "source": [
    "def parser(record):\n",
    "    keys_to_features = {\n",
    "        \"c\": tf.FixedLenSequenceFeature((), tf.int64, allow_missing=True),\n",
    "        \"c_char\": tf.FixedLenSequenceFeature((), tf.int64, allow_missing=True),\n",
    "        \"q\": tf.FixedLenSequenceFeature((), tf.int64, allow_missing=True),\n",
    "        \"q_char\": tf.FixedLenSequenceFeature((), tf.int64, allow_missing=True),\n",
    "        \"lable\":tf.FixedLenFeature(shape=[], dtype=tf.int64)\n",
    "    }\n",
    "    parsed = tf.parse_single_example(record, keys_to_features)\n",
    "    c = tf.cast(parsed[\"c\"], tf.int32)\n",
    "    c_char = tf.cast(parsed[\"c_char\"], tf.int32)\n",
    "    q = tf.cast(parsed[\"q\"], tf.int32)\n",
    "    q_char = tf.cast(parsed[\"q_char\"], tf.int32)\n",
    "    label = tf.cast(parsed[\"label\"], tf.int32)\n",
    "\n",
    "    return c, c_char, q, q_char, label"
   ]
  }
 ],
 "metadata": {
  "kernelspec": {
   "display_name": "Python 3",
   "language": "python",
   "name": "python3"
  },
  "language_info": {
   "codemirror_mode": {
    "name": "ipython",
    "version": 3
   },
   "file_extension": ".py",
   "mimetype": "text/x-python",
   "name": "python",
   "nbconvert_exporter": "python",
   "pygments_lexer": "ipython3",
   "version": "3.5.4"
  }
 },
 "nbformat": 4,
 "nbformat_minor": 2
}
