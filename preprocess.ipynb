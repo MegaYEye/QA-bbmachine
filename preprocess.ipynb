{
 "cells": [
  {
   "cell_type": "code",
   "execution_count": null,
   "metadata": {
    "collapsed": true
   },
   "outputs": [],
   "source": [
    "import numpy as np\n",
    "import tensorflow as tf\n",
    "import json\n",
    "import warnings\n",
    "import pickle\n",
    "warnings.simplefilter(action='ignore', category=FutureWarning)\n",
    "from nltk.corpus import stopwords\n",
    "from nltk.tokenize import word_tokenize\n",
    "from tqdm import tqdm"
   ]
  },
  {
   "cell_type": "code",
   "execution_count": null,
   "metadata": {
    "collapsed": true
   },
   "outputs": [],
   "source": [
    "with open(\"documents.json\") as f:\n",
    "    doc = json.load(f)\n",
    "with open(\"training.json\") as f:\n",
    "    train = json.load(f)\n",
    "with open(\"devel.json\") as f:\n",
    "    dev = json.load(f)"
   ]
  },
  {
   "cell_type": "markdown",
   "metadata": {},
   "source": [
    "Generate word dictionary, character dictionary and process pre-trained word embeddings. Word embeddings are downloaded from https://nlp.stanford.edu/projects/glove/."
   ]
  },
  {
   "cell_type": "code",
   "execution_count": null,
   "metadata": {
    "collapsed": true
   },
   "outputs": [],
   "source": [
    "tokens = []\n",
    "for d in doc:\n",
    "    paragraphs = d[\"text\"]\n",
    "    for paragraph in paragraphs:\n",
    "        tokens += word_tokenize(paragraph.lower())\n",
    "print(len(set(tokens)))\n",
    "for sample in train:\n",
    "    question = sample[\"question\"]\n",
    "    tokens += word_tokenize(question.lower())\n",
    "print(len(set(tokens)))\n",
    "tokens = set(tokens)"
   ]
  },
  {
   "cell_type": "code",
   "execution_count": null,
   "metadata": {
    "collapsed": true
   },
   "outputs": [],
   "source": [
    "embedding = []\n",
    "word_dict = dict()\n",
    "with open(\"glove.6B.50d.txt\",\"r\",encoding=\"utf-8\", errors=\"ignore\") as f:\n",
    "    for line in f:\n",
    "        data = line.split()\n",
    "        word = data[0]\n",
    "        if word in tokens:\n",
    "            embedding.append(np.array([float(i) for i in data[1:]]))\n",
    "            word_dict[word] = len(word_dict)\n",
    "embedding.append(np.random.uniform(-0.5,0.5,50))\n",
    "word_dict[\"<UNK>\"] = len(word_dict)\n",
    "embedding.append(np.zeros(50))\n",
    "word_dict[\"<PAD>\"] = len(word_dict)\n",
    "embedding = np.array(embedding)"
   ]
  },
  {
   "cell_type": "code",
   "execution_count": null,
   "metadata": {
    "collapsed": true
   },
   "outputs": [],
   "source": [
    "char_set = []\n",
    "for token in word_dict.keys():\n",
    "    char_set += [c for c in token]\n",
    "char_set = set(char_set)\n",
    "print(len(char_set))\n",
    "char_dict = dict()\n",
    "for char in char_set:\n",
    "    char_dict[char] = len(char_dict)\n",
    "char_dict[\"<unk>\"] = len(char_dict)\n",
    "char_dict[\"<pad>\"] = len(char_dict)\n",
    "print(len(char_dict))"
   ]
  },
  {
   "cell_type": "code",
   "execution_count": null,
   "metadata": {
    "collapsed": true
   },
   "outputs": [],
   "source": [
    "print(\"Embedding matrix shape:\",embedding.shape)\n",
    "print(\"word dictionary length:\", len(word_dict))\n",
    "print(\"character dictionary length:\", len(char_dict))\n",
    "print(word_dict[\"<PAD>\"])\n",
    "print(char_dict[\"<pad>\"])"
   ]
  },
  {
   "cell_type": "code",
   "execution_count": null,
   "metadata": {
    "collapsed": true
   },
   "outputs": [],
   "source": [
    "np.save(\"embedding\", embedding)\n",
    "with open(\"word_dict.json\",\"w\") as f:\n",
    "    json.dump(word_dict, f)\n",
    "with open(\"char_dict.json\",\"w\") as f:\n",
    "    json.dump(char_dict, f)"
   ]
  },
  {
   "cell_type": "markdown",
   "metadata": {},
   "source": [
    "Define functions for tokenization and padding."
   ]
  },
  {
   "cell_type": "code",
   "execution_count": null,
   "metadata": {
    "collapsed": true
   },
   "outputs": [],
   "source": [
    "def unknown_detection(token_list):\n",
    "    new_list = []\n",
    "    for token in token_list:\n",
    "        if token in word_dict:\n",
    "            new_list.append(token)\n",
    "        else:\n",
    "            new_list.append(\"<UNK>\")\n",
    "    return new_list\n",
    "\n",
    "def generate_char(token_list):\n",
    "    new_list = []\n",
    "    for token in token_list:\n",
    "        if token == \"<PAD>\":\n",
    "            char_list = [\"<pad>\"]*16\n",
    "        else:\n",
    "            char_list = [c for c in token[:16]]\n",
    "        while len(char_list) < 16:\n",
    "            char_list.append(\"<pad>\")\n",
    "        for char in char_list:\n",
    "            if char in char_dict:\n",
    "                new_list.append(char)\n",
    "            else:\n",
    "                new_list.append(\"<unk>\")\n",
    "    assert len(new_list) == len(token_list) * 16\n",
    "    return new_list"
   ]
  },
  {
   "cell_type": "code",
   "execution_count": null,
   "metadata": {
    "collapsed": true
   },
   "outputs": [],
   "source": [
    "def tokenize_and_pad(data, train=True):\n",
    "    padded = []\n",
    "    for sample in tqdm(data):\n",
    "        new_sample = dict()\n",
    "        docid = sample[\"docid\"]\n",
    "\n",
    "        question = word_tokenize(sample[\"question\"].lower())\n",
    "\n",
    "        answer = word_tokenize(sample[\"text\"].lower())\n",
    "        answer_para = sample[\"answer_paragraph\"]\n",
    "        para = word_tokenize(doc[docid][\"text\"][answer_para].lower())[:240]\n",
    "\n",
    "        answer_idx = 0\n",
    "        if train:\n",
    "            # extract answer index from paragraph\n",
    "            answer_idx = None\n",
    "            for i, j in enumerate(para):\n",
    "                if j == answer[0]:\n",
    "                    k = 1\n",
    "                    while k < len(answer) and i+k<len(para):\n",
    "                        if para[i+k] != answer[k]:\n",
    "                            break\n",
    "                        k += 1\n",
    "                    else:\n",
    "                        answer_idx = [i, i+k]\n",
    "                        break\n",
    "            # ignore samples that no answer can be found\n",
    "            if answer_idx is None:\n",
    "                continue\n",
    "\n",
    "        padded_question = question[:30]\n",
    "        while len(padded_question) < 30:\n",
    "            padded_question.append(\"<PAD>\")\n",
    "        question_char = generate_char(padded_question)\n",
    "        padded_question = unknown_detection(padded_question)\n",
    "\n",
    "        new_sample[\"question\"] = padded_question\n",
    "        new_sample[\"q_char\"] = question_char\n",
    "\n",
    "        assert len(padded_question) == 30\n",
    "        assert len(question_char) == 480\n",
    "\n",
    "        para = word_tokenize(doc[docid][\"text\"][answer_para].lower())[:240]\n",
    "        content_char = generate_char(para)\n",
    "        content = unknown_detection(para)\n",
    "        new_sample[\"content\"] = content\n",
    "        new_sample[\"c_char\"] = content_char\n",
    "        new_sample[\"answer_idx\"] = answer_idx\n",
    "        new_sample[\"answer\"] = answer\n",
    "\n",
    "        assert len(content) <= 240\n",
    "        assert len(content_char) <= 3840\n",
    "        assert len(content_char) == len(content) * 16\n",
    "\n",
    "        padded.append(new_sample)\n",
    "    return padded"
   ]
  },
  {
   "cell_type": "code",
   "execution_count": null,
   "metadata": {
    "collapsed": true
   },
   "outputs": [],
   "source": [
    "def generate_training_data(padded):\n",
    "\n",
    "    c, c_chars, q, q_chars, a_idx, answer = [], [], [], [], [], []\n",
    "    \n",
    "    cnt = 0\n",
    "    for i in tqdm(range(len(padded))):\n",
    "        cnt += 1\n",
    "        sample = padded[i]\n",
    "        question = sample[\"question\"]\n",
    "        content = sample[\"content\"]\n",
    "        q_char = sample[\"q_char\"]\n",
    "        c_char = sample[\"c_char\"]\n",
    "        aidx = sample[\"answer_idx\"]\n",
    "        a = sample[\"answer\"]\n",
    "        \n",
    "        q_mapped = [word_dict[t] for t in question]\n",
    "        c_mapped = [word_dict[t] for t in content]\n",
    "        q_char_mapped = [char_dict[ch] for ch in q_char]\n",
    "        c_char_mapped = [char_dict[ch] for ch in c_char]\n",
    "        \n",
    "        c_mapped = tf.keras.preprocessing.sequence.pad_sequences([c_mapped], maxlen=240, padding=\"post\",value=word_dict[\"<PAD>\"])[0]\n",
    "        c_char_mapped = tf.keras.preprocessing.sequence.pad_sequences([c_char_mapped], maxlen=3840, padding=\"post\",value=char_dict[\"<pad>\"])[0]\n",
    "        \n",
    "        c.append(c_mapped)\n",
    "        q.append(q_mapped)\n",
    "        c_chars.append(c_char_mapped)\n",
    "        q_chars.append(q_char_mapped)\n",
    "        a_idx.append(aidx)\n",
    "        answer.append(a)\n",
    "        \n",
    "    return np.array(c), np.array(c_chars), np.array(q), np.array(q_chars), np.array(a_idx), answer"
   ]
  },
  {
   "cell_type": "markdown",
   "metadata": {},
   "source": [
    "Generate tfrecords file for training."
   ]
  },
  {
   "cell_type": "code",
   "execution_count": null,
   "metadata": {
    "collapsed": true
   },
   "outputs": [],
   "source": [
    "padded_train = tokenize_and_pad(train)"
   ]
  },
  {
   "cell_type": "code",
   "execution_count": null,
   "metadata": {
    "collapsed": true
   },
   "outputs": [],
   "source": [
    "c, c_char, q, q_char, a_idx, _ = generate_training_data(padded_train)"
   ]
  },
  {
   "cell_type": "code",
   "execution_count": null,
   "metadata": {
    "collapsed": true
   },
   "outputs": [],
   "source": [
    "print(c.shape, c_char.shape)\n",
    "print(q.shape, q_char.shape)\n",
    "print(a_idx.shape)"
   ]
  },
  {
   "cell_type": "code",
   "execution_count": null,
   "metadata": {
    "collapsed": true
   },
   "outputs": [],
   "source": [
    "def _int64_feature(value):\n",
    "    return tf.train.Feature(int64_list=tf.train.Int64List(value=value))\n",
    "\n",
    "filename = \"train.tfrecords\"\n",
    "with tf.python_io.TFRecordWriter(filename) as writer:\n",
    "    for i in range(len(c)):\n",
    "        example = tf.train.Example(\n",
    "              features=tf.train.Features(\n",
    "                  feature={\n",
    "                      'c': _int64_feature(c[i]),\n",
    "                      'c_char': _int64_feature(c_char[i]),\n",
    "                      'q': _int64_feature(q[i]),\n",
    "                      'q_char': _int64_feature(q_char[i]),\n",
    "                      'a_idx': _int64_feature(a_idx[i])\n",
    "                  }))\n",
    "        writer.write(example.SerializeToString())"
   ]
  },
  {
   "cell_type": "markdown",
   "metadata": {},
   "source": [
    "Process data in dev set and store in local storage. These files will be read later to test real time performance on dev set during training."
   ]
  },
  {
   "cell_type": "code",
   "execution_count": null,
   "metadata": {
    "collapsed": true
   },
   "outputs": [],
   "source": [
    "padded_dev = tokenize_and_pad(dev, train=False)"
   ]
  },
  {
   "cell_type": "code",
   "execution_count": null,
   "metadata": {
    "collapsed": true
   },
   "outputs": [],
   "source": [
    "c, c_char, q, q_char, _, answer = generate_training_data(padded_dev)"
   ]
  },
  {
   "cell_type": "code",
   "execution_count": null,
   "metadata": {
    "collapsed": true
   },
   "outputs": [],
   "source": [
    "print(c.shape, c_char.shape)\n",
    "print(q.shape, q_char.shape)\n",
    "print(len(answer))"
   ]
  },
  {
   "cell_type": "code",
   "execution_count": null,
   "metadata": {
    "collapsed": true
   },
   "outputs": [],
   "source": [
    "np.save(\"c\", c)\n",
    "np.save(\"c_char\", c_char)\n",
    "np.save(\"q\", q)\n",
    "np.save(\"q_char\", q_char)\n",
    "with open(\"d_ans.pickle\",\"wb\") as f:\n",
    "    pickle.dump(answer, f)"
   ]
  }
 ],
 "metadata": {
  "kernelspec": {
   "display_name": "Python 3",
   "language": "python",
   "name": "python3"
  },
  "language_info": {
   "codemirror_mode": {
    "name": "ipython",
    "version": 3
   },
   "file_extension": ".py",
   "mimetype": "text/x-python",
   "name": "python",
   "nbconvert_exporter": "python",
   "pygments_lexer": "ipython3",
   "version": "3.5.4"
  }
 },
 "nbformat": 4,
 "nbformat_minor": 2
}
